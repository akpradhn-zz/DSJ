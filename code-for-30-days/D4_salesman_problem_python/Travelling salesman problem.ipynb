{
 "cells": [
  {
   "cell_type": "markdown",
   "metadata": {},
   "source": [
    "### Travelling salesman problem\n",
    "\n",
    "The travelling salesman problem (also called the travelling salesperson problem[1] or TSP) asks the following question: \"Given a list of cities and the distances between each pair of cities, what is the shortest possible route that visits each city and returns to the origin city?\" It is an NP-hard problem in combinatorial optimization, important in theoretical computer science and operations research.\n",
    "\n",
    "The travelling purchaser problem and the vehicle routing problem are both generalizations of TSP. [Wiki]"
   ]
  },
  {
   "cell_type": "markdown",
   "metadata": {},
   "source": [
    "<img src=\"city_route.jpg\">"
   ]
  },
  {
   "cell_type": "markdown",
   "metadata": {},
   "source": [
    "Let's say there are 4 cities A, B, C and D. All the cities are inter-connected. The distance between cities are mention on top of arrow. We have to fine the route so that toal distance travel is minimum. \n",
    "\n",
    "### Approach \n",
    "- We will choose a starting point, and find the next shortest location. \n",
    "- continue this till all the cities are covered. \n",
    "\n",
    "in this example the shortest route from A is `A -> D -> C ->B ->A` . Total distance 3+13+5+10 = 31 units "
   ]
  },
  {
   "cell_type": "markdown",
   "metadata": {},
   "source": [
    "Let's first create a sample data sets.\n",
    "<img src=\"input_metrics.jpg\">\n"
   ]
  },
  {
   "cell_type": "code",
   "execution_count": 19,
   "metadata": {},
   "outputs": [],
   "source": [
    "input_data = [[0,10,6,3],[10,0,5,20],[6,5,0,13],[3,20,13,0]]"
   ]
  },
  {
   "cell_type": "code",
   "execution_count": 20,
   "metadata": {},
   "outputs": [
    {
     "data": {
      "text/plain": [
       "[[0, 10, 6, 3], [10, 0, 5, 20], [6, 5, 0, 13], [3, 20, 13, 0]]"
      ]
     },
     "execution_count": 20,
     "metadata": {},
     "output_type": "execute_result"
    }
   ],
   "source": [
    "input_data"
   ]
  },
  {
   "cell_type": "code",
   "execution_count": 21,
   "metadata": {},
   "outputs": [],
   "source": [
    "from sys import maxsize \n",
    "V = 4\n",
    "def travellingSalesmanProblem(graph, s): \n",
    "  \n",
    "    # store all vertex apart from source vertex \n",
    "    vertex = [] \n",
    "    for i in range(V): \n",
    "        if i != s: \n",
    "            vertex.append(i) \n",
    "  \n",
    "    # store minimum weight Hamiltonian Cycle \n",
    "    min_path = maxsize \n",
    "  \n",
    "    while True: \n",
    "  \n",
    "        # store current Path weight(cost) \n",
    "        current_pathweight = 0\n",
    "  \n",
    "        # compute current path weight \n",
    "        k = s \n",
    "        for i in range(len(vertex)): \n",
    "            current_pathweight += graph[k][vertex[i]] \n",
    "            k = vertex[i] \n",
    "        current_pathweight += graph[k][s] \n",
    "  \n",
    "        # update minimum \n",
    "        min_path = min(min_path, current_pathweight) \n",
    "  \n",
    "        if not next_permutation(vertex): \n",
    "            break\n",
    "  \n",
    "    return min_path\n",
    "\n",
    "\n",
    "# next_permutation implementation \n",
    "def next_permutation(L): \n",
    "  \n",
    "    n = len(L) \n",
    "  \n",
    "    i = n - 2\n",
    "    while i >= 0 and L[i] >= L[i + 1]: \n",
    "        i -= 1\n",
    "  \n",
    "    if i == -1: \n",
    "        return False\n",
    "  \n",
    "    j = i + 1\n",
    "    while j < n and L[j] > L[i]: \n",
    "        j += 1\n",
    "    j -= 1\n",
    "  \n",
    "    L[i], L[j] = L[j], L[i] \n",
    "  \n",
    "    left = i + 1\n",
    "    right = n - 1\n",
    "  \n",
    "    while left < right: \n",
    "        L[left], L[right] = L[right], L[left] \n",
    "        left += 1\n",
    "        right -= 1\n",
    "  \n",
    "    return True"
   ]
  },
  {
   "cell_type": "code",
   "execution_count": 25,
   "metadata": {},
   "outputs": [
    {
     "name": "stdout",
     "output_type": "stream",
     "text": [
      "31\n"
     ]
    }
   ],
   "source": [
    "graph = [[0, 10, 6, 3], [10, 0, 5, 20],  \n",
    "             [5, 5, 0, 13], [3, 20, 13, 0]] \n",
    "s = 2\n",
    "print(travellingSalesmanProblem(graph, s)) "
   ]
  },
  {
   "cell_type": "code",
   "execution_count": null,
   "metadata": {},
   "outputs": [],
   "source": []
  },
  {
   "cell_type": "markdown",
   "metadata": {},
   "source": [
    "References\n",
    "- https://www.geeksforgeeks.org/"
   ]
  },
  {
   "cell_type": "code",
   "execution_count": null,
   "metadata": {},
   "outputs": [],
   "source": []
  }
 ],
 "metadata": {
  "kernelspec": {
   "display_name": "Python 3.6.6 64-bit",
   "language": "python",
   "name": "python36664bitc85373fdf50c44838fdedab64d32c6cc"
  },
  "language_info": {
   "codemirror_mode": {
    "name": "ipython",
    "version": 3
   },
   "file_extension": ".py",
   "mimetype": "text/x-python",
   "name": "python",
   "nbconvert_exporter": "python",
   "pygments_lexer": "ipython3",
   "version": "3.6.6"
  }
 },
 "nbformat": 4,
 "nbformat_minor": 4
}
