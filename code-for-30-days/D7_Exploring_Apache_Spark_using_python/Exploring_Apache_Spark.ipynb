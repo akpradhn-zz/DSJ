{
  "nbformat": 4,
  "nbformat_minor": 0,
  "metadata": {
    "colab": {
      "name": "Exploring Apache Spark.ipynb",
      "provenance": [],
      "collapsed_sections": []
    },
    "kernelspec": {
      "name": "python3",
      "display_name": "Python 3"
    }
  },
  "cells": [
    {
      "cell_type": "markdown",
      "metadata": {
        "id": "aKm_mDz2kkfR",
        "colab_type": "text"
      },
      "source": [
        "## Week 1 : Scalable Machine Learning on Big Data using Apache Spark"
      ]
    },
    {
      "cell_type": "code",
      "metadata": {
        "id": "tcsxKlbWPb5-",
        "colab_type": "code",
        "colab": {
          "base_uri": "https://localhost:8080/",
          "height": 247
        },
        "outputId": "55b1d339-8bc2-4fec-a2a2-f6d0f6ccc3a8"
      },
      "source": [
        "!pip install pyspark"
      ],
      "execution_count": 2,
      "outputs": [
        {
          "output_type": "stream",
          "text": [
            "Collecting pyspark\n",
            "\u001b[?25l  Downloading https://files.pythonhosted.org/packages/8e/b0/bf9020b56492281b9c9d8aae8f44ff51e1bc91b3ef5a884385cb4e389a40/pyspark-3.0.0.tar.gz (204.7MB)\n",
            "\u001b[K     |████████████████████████████████| 204.7MB 62kB/s \n",
            "\u001b[?25hCollecting py4j==0.10.9\n",
            "\u001b[?25l  Downloading https://files.pythonhosted.org/packages/9e/b6/6a4fb90cd235dc8e265a6a2067f2a2c99f0d91787f06aca4bcf7c23f3f80/py4j-0.10.9-py2.py3-none-any.whl (198kB)\n",
            "\u001b[K     |████████████████████████████████| 204kB 46.8MB/s \n",
            "\u001b[?25hBuilding wheels for collected packages: pyspark\n",
            "  Building wheel for pyspark (setup.py) ... \u001b[?25l\u001b[?25hdone\n",
            "  Created wheel for pyspark: filename=pyspark-3.0.0-py2.py3-none-any.whl size=205044182 sha256=31727e220c7bb6d91e2d17e56446c6697c5d017a04c4712a573989af2678fee0\n",
            "  Stored in directory: /root/.cache/pip/wheels/57/27/4d/ddacf7143f8d5b76c45c61ee2e43d9f8492fc5a8e78ebd7d37\n",
            "Successfully built pyspark\n",
            "Installing collected packages: py4j, pyspark\n",
            "Successfully installed py4j-0.10.9 pyspark-3.0.0\n"
          ],
          "name": "stdout"
        }
      ]
    },
    {
      "cell_type": "markdown",
      "metadata": {
        "id": "_UhamvZZjlBt",
        "colab_type": "text"
      },
      "source": [
        "## Parallel data processing strategies of Apache Spark"
      ]
    },
    {
      "cell_type": "code",
      "metadata": {
        "id": "Gyr6e0CNlEWm",
        "colab_type": "code",
        "colab": {}
      },
      "source": [
        "try:\n",
        "    from pyspark import SparkContext, SparkConf\n",
        "    from pyspark.sql import SparkSession\n",
        "except ImportError as e:\n",
        "    printmd('<<<<<!!!!! Please restart your kernel after installing Apache Spark !!!!!>>>>>')"
      ],
      "execution_count": 9,
      "outputs": []
    },
    {
      "cell_type": "code",
      "metadata": {
        "id": "pj7jQNQ2jHYe",
        "colab_type": "code",
        "colab": {}
      },
      "source": [
        "\n",
        "sc =SparkContext()\n",
        "rdd = sc.parallelize(range(100))"
      ],
      "execution_count": 3,
      "outputs": []
    },
    {
      "cell_type": "code",
      "metadata": {
        "id": "SnDz9gqrlL26",
        "colab_type": "code",
        "colab": {}
      },
      "source": [
        "spark = SparkSession \\\n",
        "    .builder \\\n",
        "    .getOrCreate()"
      ],
      "execution_count": 10,
      "outputs": []
    },
    {
      "cell_type": "code",
      "metadata": {
        "id": "1cghrAZajoq2",
        "colab_type": "code",
        "colab": {
          "base_uri": "https://localhost:8080/",
          "height": 34
        },
        "outputId": "9ea5c25f-c17d-4b0e-d707-a83b24d21072"
      },
      "source": [
        "rdd.count()"
      ],
      "execution_count": 4,
      "outputs": [
        {
          "output_type": "execute_result",
          "data": {
            "text/plain": [
              "100"
            ]
          },
          "metadata": {
            "tags": []
          },
          "execution_count": 4
        }
      ]
    },
    {
      "cell_type": "code",
      "metadata": {
        "id": "SlusfZLVjsyL",
        "colab_type": "code",
        "colab": {
          "base_uri": "https://localhost:8080/",
          "height": 34
        },
        "outputId": "a5f39ff1-2bdc-4919-d661-3e38df82e416"
      },
      "source": [
        "rdd.take(10)"
      ],
      "execution_count": 5,
      "outputs": [
        {
          "output_type": "execute_result",
          "data": {
            "text/plain": [
              "[0, 1, 2, 3, 4, 5, 6, 7, 8, 9]"
            ]
          },
          "metadata": {
            "tags": []
          },
          "execution_count": 5
        }
      ]
    },
    {
      "cell_type": "code",
      "metadata": {
        "id": "xXCgliaDlThc",
        "colab_type": "code",
        "colab": {
          "base_uri": "https://localhost:8080/",
          "height": 34
        },
        "outputId": "4903539b-acfb-40d6-91d0-803098e030d8"
      },
      "source": [
        "rdd.sum()"
      ],
      "execution_count": 11,
      "outputs": [
        {
          "output_type": "execute_result",
          "data": {
            "text/plain": [
              "4950"
            ]
          },
          "metadata": {
            "tags": []
          },
          "execution_count": 11
        }
      ]
    },
    {
      "cell_type": "code",
      "metadata": {
        "id": "zdJHn3nNj5OR",
        "colab_type": "code",
        "colab": {}
      },
      "source": [
        "# rdd.collect()\n",
        "# Note : avoid doing this while for large data else it will give memory error.\n",
        "\n"
      ],
      "execution_count": 8,
      "outputs": []
    },
    {
      "cell_type": "markdown",
      "metadata": {
        "id": "XueAq0q3kNet",
        "colab_type": "text"
      },
      "source": [
        "Sumary \n",
        "* ApacheSpark programs are implicitly paraller\n",
        "* Same code can process 1KB or 1PB\n",
        "* RDD Central API\n",
        "* Data and task distribution transparent \n",
        "\n",
        "\n",
        "\n"
      ]
    },
    {
      "cell_type": "markdown",
      "metadata": {
        "id": "vuQTtjLylkkr",
        "colab_type": "text"
      },
      "source": [
        "# Functional Programming (FP)"
      ]
    },
    {
      "cell_type": "markdown",
      "metadata": {
        "id": "HMgKEHi1luQx",
        "colab_type": "text"
      },
      "source": [
        "Lambda Calculus : https://en.wikipedia.org/wiki/Lambda_calculus"
      ]
    },
    {
      "cell_type": "markdown",
      "metadata": {
        "id": "EZm7BAevm1lD",
        "colab_type": "text"
      },
      "source": [
        "- var output = fucntion (fn,x,y,z) { return fn(x,y,z);};\n",
        "- var sum = function(a,b,c) {return (a+b+c);};\n",
        "- alert(output(sum,1,2,3));\n",
        "\n",
        "function creater  > f(x) = x+1\n"
      ]
    },
    {
      "cell_type": "code",
      "metadata": {
        "id": "iKbaB4Wumgue",
        "colab_type": "code",
        "colab": {
          "base_uri": "https://localhost:8080/",
          "height": 34
        },
        "outputId": "d3700d2e-c539-4264-8684-f1329dffcf0d"
      },
      "source": [
        "rdd = sc.parallelize(range(100))\n",
        "rdd.take(10)"
      ],
      "execution_count": 21,
      "outputs": [
        {
          "output_type": "execute_result",
          "data": {
            "text/plain": [
              "[0, 1, 2, 3, 4, 5, 6, 7, 8, 9]"
            ]
          },
          "metadata": {
            "tags": []
          },
          "execution_count": 21
        }
      ]
    },
    {
      "cell_type": "code",
      "metadata": {
        "id": "tES_HqWVnHam",
        "colab_type": "code",
        "colab": {
          "base_uri": "https://localhost:8080/",
          "height": 34
        },
        "outputId": "53062c3d-5e62-4113-89a8-ec8a1e898996"
      },
      "source": [
        "rdd.map(lambda x: x+1).take(10)"
      ],
      "execution_count": 20,
      "outputs": [
        {
          "output_type": "execute_result",
          "data": {
            "text/plain": [
              "[1, 2, 3, 4, 5, 6, 7, 8, 9, 10]"
            ]
          },
          "metadata": {
            "tags": []
          },
          "execution_count": 20
        }
      ]
    },
    {
      "cell_type": "code",
      "metadata": {
        "id": "JvtKF6-9n1Gx",
        "colab_type": "code",
        "colab": {
          "base_uri": "https://localhost:8080/",
          "height": 34
        },
        "outputId": "d6d97cfb-92c1-42e1-8d84-5bae92907c4e"
      },
      "source": [
        "# Taking suma of all\n",
        "sc.parallelize(range(1,101)).reduce(lambda a,b:a+b)\n"
      ],
      "execution_count": 24,
      "outputs": [
        {
          "output_type": "execute_result",
          "data": {
            "text/plain": [
              "5050"
            ]
          },
          "metadata": {
            "tags": []
          },
          "execution_count": 24
        }
      ]
    },
    {
      "cell_type": "code",
      "metadata": {
        "id": "3skSNeRkoGw5",
        "colab_type": "code",
        "colab": {}
      },
      "source": [
        "ApacheSpark parallelises computions using the lambda calculus\n",
        "All spark "
      ],
      "execution_count": null,
      "outputs": []
    },
    {
      "cell_type": "code",
      "metadata": {
        "id": "yJGjrLDVoofl",
        "colab_type": "code",
        "colab": {}
      },
      "source": [
        "## Let’s actually create a python function which decides whether a value is greater than 50 (True) or not (False).\n",
        "\n",
        "def gt50(i):\n",
        "  if i>50:\n",
        "    return True\n",
        "  else:\n",
        "    return False"
      ],
      "execution_count": 25,
      "outputs": []
    },
    {
      "cell_type": "code",
      "metadata": {
        "id": "W1QK8AE8ozUP",
        "colab_type": "code",
        "colab": {
          "base_uri": "https://localhost:8080/",
          "height": 52
        },
        "outputId": "caa4aa06-d281-49c5-fad0-25145a80d498"
      },
      "source": [
        "print(gt50(100))\n",
        "print(gt50(34))"
      ],
      "execution_count": 27,
      "outputs": [
        {
          "output_type": "stream",
          "text": [
            "True\n",
            "False\n"
          ],
          "name": "stdout"
        }
      ]
    },
    {
      "cell_type": "code",
      "metadata": {
        "id": "gXmWTzCMo3gr",
        "colab_type": "code",
        "colab": {}
      },
      "source": [
        "## \n",
        "def gt50(i):\n",
        "  return i>50"
      ],
      "execution_count": 28,
      "outputs": []
    },
    {
      "cell_type": "code",
      "metadata": {
        "id": "vpBfB-59pAId",
        "colab_type": "code",
        "colab": {
          "base_uri": "https://localhost:8080/",
          "height": 52
        },
        "outputId": "e7363cf5-4e99-49d7-9854-55e8d0411da8"
      },
      "source": [
        "print(gt50(100))\n",
        "print(gt50(34))"
      ],
      "execution_count": 29,
      "outputs": [
        {
          "output_type": "stream",
          "text": [
            "True\n",
            "False\n"
          ],
          "name": "stdout"
        }
      ]
    },
    {
      "cell_type": "code",
      "metadata": {
        "id": "cDqND6HFpBKt",
        "colab_type": "code",
        "colab": {}
      },
      "source": [
        "gt50 = lambda i: i > 50"
      ],
      "execution_count": 30,
      "outputs": []
    },
    {
      "cell_type": "code",
      "metadata": {
        "id": "3CEsXXcOpFCe",
        "colab_type": "code",
        "colab": {
          "base_uri": "https://localhost:8080/",
          "height": 52
        },
        "outputId": "e0c07bb3-f341-4ee8-d501-23a226e01e63"
      },
      "source": [
        "print(gt50(100))\n",
        "print(gt50(34))"
      ],
      "execution_count": 31,
      "outputs": [
        {
          "output_type": "stream",
          "text": [
            "True\n",
            "False\n"
          ],
          "name": "stdout"
        }
      ]
    },
    {
      "cell_type": "code",
      "metadata": {
        "id": "DsVB4T7SpGaF",
        "colab_type": "code",
        "colab": {}
      },
      "source": [
        "from random import shuffle\n",
        "l = list(range(100))\n",
        "shuffle(l)\n",
        "rdd = sc.parallelize(l)"
      ],
      "execution_count": 32,
      "outputs": []
    },
    {
      "cell_type": "code",
      "metadata": {
        "id": "NISpvAndpKkV",
        "colab_type": "code",
        "colab": {
          "base_uri": "https://localhost:8080/",
          "height": 34
        },
        "outputId": "76bc2875-41bf-4a71-aab9-225e9ea9695a"
      },
      "source": [
        "rdd.take(10)\n",
        "# Let’s filter values from our list which are equals or less than 50 by applying our “gt50” function to the list using the “filter” function. \n",
        "# Note that by calling the “collect” function, all elements are returned to the Apache Spark Driver. \n",
        "# This is not a good idea for BigData, please use “.sample(10,0.1).collect()” or “take(n)” instead.\n"
      ],
      "execution_count": 34,
      "outputs": [
        {
          "output_type": "execute_result",
          "data": {
            "text/plain": [
              "[82, 54, 12, 53, 44, 14, 96, 89, 84, 93]"
            ]
          },
          "metadata": {
            "tags": []
          },
          "execution_count": 34
        }
      ]
    },
    {
      "cell_type": "code",
      "metadata": {
        "id": "yIBhp1xtpMf8",
        "colab_type": "code",
        "colab": {
          "base_uri": "https://localhost:8080/",
          "height": 887
        },
        "outputId": "288f8cbc-42e7-4dde-a257-6e0825ff7bdd"
      },
      "source": [
        "rdd.filter(gt50).collect()"
      ],
      "execution_count": 35,
      "outputs": [
        {
          "output_type": "execute_result",
          "data": {
            "text/plain": [
              "[82,\n",
              " 54,\n",
              " 53,\n",
              " 96,\n",
              " 89,\n",
              " 84,\n",
              " 93,\n",
              " 81,\n",
              " 60,\n",
              " 68,\n",
              " 95,\n",
              " 62,\n",
              " 78,\n",
              " 67,\n",
              " 90,\n",
              " 70,\n",
              " 87,\n",
              " 57,\n",
              " 97,\n",
              " 99,\n",
              " 66,\n",
              " 63,\n",
              " 88,\n",
              " 80,\n",
              " 71,\n",
              " 64,\n",
              " 75,\n",
              " 65,\n",
              " 52,\n",
              " 98,\n",
              " 86,\n",
              " 94,\n",
              " 61,\n",
              " 55,\n",
              " 58,\n",
              " 85,\n",
              " 59,\n",
              " 74,\n",
              " 79,\n",
              " 77,\n",
              " 72,\n",
              " 91,\n",
              " 56,\n",
              " 76,\n",
              " 73,\n",
              " 51,\n",
              " 92,\n",
              " 83,\n",
              " 69]"
            ]
          },
          "metadata": {
            "tags": []
          },
          "execution_count": 35
        }
      ]
    },
    {
      "cell_type": "code",
      "metadata": {
        "id": "L1iRlXFJphWb",
        "colab_type": "code",
        "colab": {
          "base_uri": "https://localhost:8080/",
          "height": 887
        },
        "outputId": "31ac6019-9ea7-4db4-c885-415c5a996dc5"
      },
      "source": [
        "rdd.filter(lambda i: i > 50).collect()"
      ],
      "execution_count": 36,
      "outputs": [
        {
          "output_type": "execute_result",
          "data": {
            "text/plain": [
              "[82,\n",
              " 54,\n",
              " 53,\n",
              " 96,\n",
              " 89,\n",
              " 84,\n",
              " 93,\n",
              " 81,\n",
              " 60,\n",
              " 68,\n",
              " 95,\n",
              " 62,\n",
              " 78,\n",
              " 67,\n",
              " 90,\n",
              " 70,\n",
              " 87,\n",
              " 57,\n",
              " 97,\n",
              " 99,\n",
              " 66,\n",
              " 63,\n",
              " 88,\n",
              " 80,\n",
              " 71,\n",
              " 64,\n",
              " 75,\n",
              " 65,\n",
              " 52,\n",
              " 98,\n",
              " 86,\n",
              " 94,\n",
              " 61,\n",
              " 55,\n",
              " 58,\n",
              " 85,\n",
              " 59,\n",
              " 74,\n",
              " 79,\n",
              " 77,\n",
              " 72,\n",
              " 91,\n",
              " 56,\n",
              " 76,\n",
              " 73,\n",
              " 51,\n",
              " 92,\n",
              " 83,\n",
              " 69]"
            ]
          },
          "metadata": {
            "tags": []
          },
          "execution_count": 36
        }
      ]
    },
    {
      "cell_type": "code",
      "metadata": {
        "id": "N3IdQgpxpkcS",
        "colab_type": "code",
        "colab": {
          "base_uri": "https://localhost:8080/",
          "height": 34
        },
        "outputId": "9f3144a7-e6d4-4a74-f147-b8d51c60cd82"
      },
      "source": [
        "# Now we want to compute the sum for elements in that list which are greater than 50 but less than 75. Please implement the missing parts.\n",
        "\n",
        "rdd.filter(lambda x: x > 50).filter(lambda x: x <75).sum()"
      ],
      "execution_count": 37,
      "outputs": [
        {
          "output_type": "execute_result",
          "data": {
            "text/plain": [
              "1500"
            ]
          },
          "metadata": {
            "tags": []
          },
          "execution_count": 37
        }
      ]
    },
    {
      "cell_type": "markdown",
      "metadata": {
        "id": "qYVx5arbqNnT",
        "colab_type": "text"
      },
      "source": [
        "### Resilient Distributed Dataset and DataFrames - ApacheSparkSQL\n",
        "\n",
        "- RDD are schemaless"
      ]
    },
    {
      "cell_type": "code",
      "metadata": {
        "id": "VdoU6B2jrijP",
        "colab_type": "code",
        "colab": {
          "base_uri": "https://localhost:8080/",
          "height": 212
        },
        "outputId": "e44648b0-949c-4c94-fa69-e7ad397a8623"
      },
      "source": [
        "from pyspark.sql import Row\n",
        "\n",
        "df = spark.createDataFrame([Row(id=1, value='value1'),Row(id=2, value='value2')])\n",
        "\n",
        "# let's have a look what's inside\n",
        "df.show()\n",
        "\n",
        "# let's print the schema\n",
        "df.printSchema()"
      ],
      "execution_count": 38,
      "outputs": [
        {
          "output_type": "stream",
          "text": [
            "+---+------+\n",
            "| id| value|\n",
            "+---+------+\n",
            "|  1|value1|\n",
            "|  2|value2|\n",
            "+---+------+\n",
            "\n",
            "root\n",
            " |-- id: long (nullable = true)\n",
            " |-- value: string (nullable = true)\n",
            "\n"
          ],
          "name": "stdout"
        }
      ]
    },
    {
      "cell_type": "code",
      "metadata": {
        "id": "dZvnW0hQrjYC",
        "colab_type": "code",
        "colab": {
          "base_uri": "https://localhost:8080/",
          "height": 142
        },
        "outputId": "04c915df-2db5-41e3-afdf-80423718b520"
      },
      "source": [
        "# register dataframe as query table\n",
        "df.createOrReplaceTempView('df_view')\n",
        "\n",
        "# execute SQL query\n",
        "df_result = spark.sql('select value from df_view where id=2')\n",
        "\n",
        "# examine contents of result\n",
        "df_result.show()\n",
        "\n",
        "# get result as string\n",
        "df_result.first().value"
      ],
      "execution_count": 39,
      "outputs": [
        {
          "output_type": "stream",
          "text": [
            "+------+\n",
            "| value|\n",
            "+------+\n",
            "|value2|\n",
            "+------+\n",
            "\n"
          ],
          "name": "stdout"
        },
        {
          "output_type": "execute_result",
          "data": {
            "application/vnd.google.colaboratory.intrinsic": {
              "type": "string"
            },
            "text/plain": [
              "'value2'"
            ]
          },
          "metadata": {
            "tags": []
          },
          "execution_count": 39
        }
      ]
    },
    {
      "cell_type": "code",
      "metadata": {
        "id": "BEFt2Ba5rvlV",
        "colab_type": "code",
        "colab": {
          "base_uri": "https://localhost:8080/",
          "height": 34
        },
        "outputId": "c9d53295-44aa-458b-fcd1-eeb75c38daa9"
      },
      "source": [
        "df_result.count()"
      ],
      "execution_count": 40,
      "outputs": [
        {
          "output_type": "execute_result",
          "data": {
            "text/plain": [
              "1"
            ]
          },
          "metadata": {
            "tags": []
          },
          "execution_count": 40
        }
      ]
    },
    {
      "cell_type": "code",
      "metadata": {
        "id": "lMXjH5LIrzSz",
        "colab_type": "code",
        "colab": {
          "base_uri": "https://localhost:8080/",
          "height": 34
        },
        "outputId": "8809ffeb-1a1f-4cb9-c74a-9c23dd1eed5f"
      },
      "source": [
        "df.columns"
      ],
      "execution_count": 41,
      "outputs": [
        {
          "output_type": "execute_result",
          "data": {
            "text/plain": [
              "['id', 'value']"
            ]
          },
          "metadata": {
            "tags": []
          },
          "execution_count": 41
        }
      ]
    },
    {
      "cell_type": "markdown",
      "metadata": {
        "id": "o95XebPGuj_E",
        "colab_type": "text"
      },
      "source": [
        "References \n",
        "- https://www.coursera.org/learn/machine-learning-big-data-apache-spark/home/welcome\n",
        "- https://github.com/IBM/skillsnetwork/tree/master/coursera_bd"
      ]
    }
  ]
}